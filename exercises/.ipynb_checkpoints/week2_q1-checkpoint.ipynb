{
 "metadata": {
  "name": ""
 },
 "nbformat": 3,
 "nbformat_minor": 0,
 "worksheets": [
  {
   "cells": [
    {
     "cell_type": "code",
     "collapsed": false,
     "input": [
      "import numpy as np\n",
      "import matplotlib.pyplot as plt"
     ],
     "language": "python",
     "metadata": {},
     "outputs": [],
     "prompt_number": 1
    },
    {
     "cell_type": "code",
     "collapsed": false,
     "input": [
      " 256     0.000\n",
      "      512     0.002\n",
      "     1024     0.009\n",
      "     2048     0.043\n",
      "     4096     0.205\n",
      "     8192     0.939\n",
      "    16384     4.313\n",
      "    32768    19.816\n",
      "    65536    92.901\n",
      "   131072   429.157\n",
      "   262144  1990.135"
     ],
     "language": "python",
     "metadata": {},
     "outputs": []
    },
    {
     "cell_type": "code",
     "collapsed": false,
     "input": [
      "t= np.array([0.000, 0.002, 0.009, 0.043, 0.205, 0.939, 4.313, 19.816, 92.901, 429.157, 1990.135])\n",
      "n= np.array([256, 512, 1024, 2048, 4096, 8192, 16384, 32768, 65536, 131072, 262144])\n",
      "#t= np.array([0.000, 0.001, 0.010, 0.098, 1.135, 10.224, 102.345, 927.636, 9012.235])\n",
      "#n= np.array([32,  64,  128,  256,  512, 1024, 2048, 4096, 8192])\n",
      "print n"
     ],
     "language": "python",
     "metadata": {},
     "outputs": [
      {
       "output_type": "stream",
       "stream": "stdout",
       "text": [
        "[   256    512   1024   2048   4096   8192  16384  32768  65536 131072\n",
        " 262144]\n"
       ]
      }
     ],
     "prompt_number": 14
    },
    {
     "cell_type": "code",
     "collapsed": false,
     "input": [
      "logt= np.log(t)\n",
      "logn= np.log(n)\n",
      "print logt\n",
      "print logn"
     ],
     "language": "python",
     "metadata": {},
     "outputs": [
      {
       "output_type": "stream",
       "stream": "stdout",
       "text": [
        "[       -inf -6.2146081  -4.7105307  -3.14655516 -1.5847453  -0.0629398\n",
        "  1.46163372  2.98648969  4.53153441  6.06182282  7.59595775]\n",
        "[  5.54517744   6.23832463   6.93147181   7.62461899   8.31776617\n",
        "   9.01091335   9.70406053  10.39720771  11.09035489  11.78350207\n",
        "  12.47664925]\n"
       ]
      }
     ],
     "prompt_number": 15
    },
    {
     "cell_type": "code",
     "collapsed": false,
     "input": [
      "plt.plot(logn[1:], logt[1:])"
     ],
     "language": "python",
     "metadata": {},
     "outputs": [
      {
       "metadata": {},
       "output_type": "pyout",
       "prompt_number": 16,
       "text": [
        "[<matplotlib.lines.Line2D at 0x106db5390>]"
       ]
      },
      {
       "metadata": {},
       "output_type": "display_data",
       "png": "[encoded data removed]",
       "text": [
        "<matplotlib.figure.Figure at 0x106bbb0d0>"
       ]
      }
     ],
     "prompt_number": 16
    },
    {
     "cell_type": "code",
     "collapsed": false,
     "input": [
      "logn= logn[1:]\n",
      "logt= logt[1:]"
     ],
     "language": "python",
     "metadata": {},
     "outputs": [],
     "prompt_number": 17
    },
    {
     "cell_type": "code",
     "collapsed": false,
     "input": [
      "# slope = ( (xy).mean() - x.mean()*y.mean() ) / ( (x**2).mean() - (x.mean())**2)\n",
      "slope= ((logn*logt).mean() - logn.mean()*logt.mean()) / ( (logn**2).mean() - (logn.mean())**2)\n",
      "print slope"
     ],
     "language": "python",
     "metadata": {},
     "outputs": [
      {
       "output_type": "stream",
       "stream": "stdout",
       "text": [
        "2.21502035397\n"
       ]
      }
     ],
     "prompt_number": 18
    },
    {
     "cell_type": "code",
     "collapsed": false,
     "input": [
      "print (logt[-1]-logt[0])/(logn[-1]-logn[0])"
     ],
     "language": "python",
     "metadata": {},
     "outputs": [
      {
       "output_type": "stream",
       "stream": "stdout",
       "text": [
        "2.21382609645\n"
       ]
      }
     ],
     "prompt_number": 19
    },
    {
     "cell_type": "code",
     "collapsed": false,
     "input": [
      "# Step by step slopes\n",
      "slps= (logt[1:]-logt[:-1])/(logn[1:]-logn[:-1])\n",
      "print slps\n",
      "print slps.mean()"
     ],
     "language": "python",
     "metadata": {},
     "outputs": [
      {
       "output_type": "stream",
       "stream": "stdout",
       "text": [
        "[ 2.169925    2.25633975  2.25321534  2.19550125  2.19949465  2.19990215\n",
        "  2.22902835  2.2077395   2.21328886]\n",
        "2.21382609645\n"
       ]
      }
     ],
     "prompt_number": 20
    },
    {
     "cell_type": "code",
     "collapsed": false,
     "input": [],
     "language": "python",
     "metadata": {},
     "outputs": [],
     "prompt_number": 20
    },
    {
     "cell_type": "code",
     "collapsed": false,
     "input": [],
     "language": "python",
     "metadata": {},
     "outputs": [],
     "prompt_number": 20
    },
    {
     "cell_type": "code",
     "collapsed": false,
     "input": [
      "range(1,3,1)"
     ],
     "language": "python",
     "metadata": {},
     "outputs": [
      {
       "metadata": {},
       "output_type": "pyout",
       "prompt_number": 21,
       "text": [
        "[1, 2]"
       ]
      }
     ],
     "prompt_number": 21
    },
    {
     "cell_type": "code",
     "collapsed": false,
     "input": [
      "def grow(N):\n",
      "    sum = 0\n",
      "    i = 1\n",
      "    while i <= N:\n",
      "        for j in range(1, i+1):\n",
      "            sum= sum+1\n",
      "        i= i*3\n",
      "    return sum"
     ],
     "language": "python",
     "metadata": {},
     "outputs": [],
     "prompt_number": 22
    },
    {
     "cell_type": "code",
     "collapsed": false,
     "input": [
      "for i in range(1,30):\n",
      "    N= pow(2,i)\n",
      "    print N, grow(N)"
     ],
     "language": "python",
     "metadata": {},
     "outputs": [
      {
       "output_type": "stream",
       "stream": "stdout",
       "text": [
        "2 1\n",
        "4 4\n",
        "8 4\n",
        "16 13\n",
        "32 40\n",
        "64 40\n",
        "128 121\n",
        "256 364\n",
        "512 364\n",
        "1024 1093\n",
        "2048 1093\n",
        "4096 3280\n",
        "8192 9841\n",
        "16384 9841\n",
        "32768 29524\n",
        "65536 88573\n",
        "131072 88573\n",
        "262144 265720\n",
        "524288 "
       ]
      },
      {
       "output_type": "stream",
       "stream": "stdout",
       "text": [
        "265720\n",
        "1048576 "
       ]
      },
      {
       "output_type": "stream",
       "stream": "stdout",
       "text": [
        "797161\n",
        "2097152 "
       ]
      },
      {
       "output_type": "stream",
       "stream": "stdout",
       "text": [
        "2391484\n",
        "4194304 "
       ]
      },
      {
       "output_type": "stream",
       "stream": "stdout",
       "text": [
        "2391484\n",
        "8388608 "
       ]
      },
      {
       "output_type": "stream",
       "stream": "stdout",
       "text": [
        "7174453\n",
        "16777216 "
       ]
      },
      {
       "output_type": "stream",
       "stream": "stdout",
       "text": [
        "21523360\n",
        "33554432 "
       ]
      },
      {
       "output_type": "stream",
       "stream": "stdout",
       "text": [
        "21523360\n",
        "67108864 "
       ]
      },
      {
       "output_type": "stream",
       "stream": "stdout",
       "text": [
        "64570081\n",
        "134217728 "
       ]
      },
      {
       "output_type": "stream",
       "stream": "stdout",
       "text": [
        "193710244\n",
        "268435456 "
       ]
      },
      {
       "output_type": "stream",
       "stream": "stdout",
       "text": [
        "193710244\n",
        "536870912 "
       ]
      },
      {
       "output_type": "stream",
       "stream": "stdout",
       "text": [
        "581130733\n"
       ]
      }
     ],
     "prompt_number": 26
    },
    {
     "cell_type": "code",
     "collapsed": false,
     "input": [],
     "language": "python",
     "metadata": {},
     "outputs": []
    }
   ],
   "metadata": {}
  }
 ]
}